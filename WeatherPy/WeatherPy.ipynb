{
 "cells": [
  {
   "cell_type": "markdown",
   "metadata": {},
   "source": [
    "# WeatherPy\n",
    "----\n",
    "\n",
    "#### Note\n",
    "* Instructions have been included for each segment. You do not have to follow them exactly, but they are included to help you think through the steps."
   ]
  },
  {
   "cell_type": "code",
   "execution_count": 1,
   "metadata": {
    "scrolled": true
   },
   "outputs": [],
   "source": [
    "# Dependencies and Setup\n",
    "import matplotlib.pyplot as plt\n",
    "import pandas as pd\n",
    "import numpy as np\n",
    "import requests\n",
    "import time\n",
    "from scipy.stats import linregress\n",
    "from pprint import pprint\n",
    "\n",
    "# Import API key\n",
    "from api_keys import weather_api_key\n",
    "\n",
    "# Incorporated citipy to determine city based on latitude and longitude\n",
    "from citipy import citipy\n",
    "\n",
    "# Output File (CSV)\n",
    "output_data_file = \"output_data/cities.csv\"\n",
    "\n",
    "# Range of latitudes and longitudes\n",
    "lat_range = (-90, 90)\n",
    "lng_range = (-180, 180)"
   ]
  },
  {
   "cell_type": "code",
   "execution_count": 2,
   "metadata": {},
   "outputs": [],
   "source": [
    "#Use ! in front of the code if you are running terminal commands\n",
    "#!pip freeze \n",
    "#!pip install citipy"
   ]
  },
  {
   "cell_type": "markdown",
   "metadata": {},
   "source": [
    "## Generate Cities List"
   ]
  },
  {
   "cell_type": "code",
   "execution_count": 3,
   "metadata": {},
   "outputs": [
    {
     "data": {
      "text/plain": [
       "631"
      ]
     },
     "execution_count": 3,
     "metadata": {},
     "output_type": "execute_result"
    }
   ],
   "source": [
    "# List for holding lat_lngs and cities\n",
    "lat_lngs = []\n",
    "cities = []\n",
    "\n",
    "# Create a set of random lat and lng combinations\n",
    "lats = np.random.uniform(lat_range[0], lat_range[1], size=1500)\n",
    "lngs = np.random.uniform(lng_range[0], lng_range[1], size=1500)\n",
    "lat_lngs = zip(lats, lngs)\n",
    "\n",
    "# Identify nearest city for each lat, lng combination\n",
    "for lat_lng in lat_lngs:\n",
    "    city = citipy.nearest_city(lat_lng[0], lat_lng[1]).city_name\n",
    "    \n",
    "    # If the city is unique, then add it to a our cities list\n",
    "    if city not in cities:\n",
    "        cities.append(city)\n",
    "\n",
    "# Print the city count to confirm sufficient count\n",
    "len(cities)"
   ]
  },
  {
   "cell_type": "code",
   "execution_count": 4,
   "metadata": {},
   "outputs": [
    {
     "name": "stdout",
     "output_type": "stream",
     "text": [
      "['christchurch', 'cape town', 'hithadhoo', 'manica', 'longyearbyen', 'ngunguru', 'hermanus', 'tacuati', 'chara', 'qaanaaq', 'chuy', 'gomel', 'bredasdorp', 'albany', 'butaritari', 'oussouye', 'caucaia', 'havre', 'illoqqortoormiut', 'mahebourg', 'bluff', 'souillac', 'punta arenas', 'epe', 'hilo', 'avarua', 'ribeira grande', 'busselton', 'ushuaia', 'vaini', 'saskylakh', 'husavik', 'busayra', 'do gonbadan', 'nishihara', 'rikitea', 'frankfort', 'vostok', 'lander', 'avera', 'upernavik', 'salalah', 'omsukchan', 'palabuhanratu', 'geraldton', 'taolanaro', 'nanton', 'boca do acre', 'bengkulu', 'cidreira', 'grand river south east', 'port alfred', 'jamestown', 'victoria', 'yen bai', 'progreso', 'san quintin', 'saint-joseph', 'clyde river', 'esperance', 'necochea', 'shimoda', 'khandyga', 'khatanga', 'gvardeysk', 'banjarmasin', 'padang', 'vestmannaeyjar', 'kapaa', 'tongren', 'amahai', 'odweyne', 'may pen', 'attawapiskat', 'kupang', 'saint-philippe', 'samusu', 'nalut', 'chegdomyn', 'bubaque', 'bambous virieux', 'bethel', 'arraial do cabo', 'mataura', 'churapcha', 'port elizabeth', 'heyang', 'qui nhon', 'volda', 'thompson', 'krasnoselkup', 'nizhneyansk', 'port lincoln', 'nikolayevsk-na-amure', 'bandrele', 'roald', 'constitucion', 'mizdah', 'ostrovnoy', 'kislovodsk', 'tiarei', 'bundaberg', 'torbay', 'chokurdakh', 'oranjemund', 'amderma', 'kangaatsiaq', 'camana', 'cockburn town', 'barentsburg', 'erbaa', 'nouakchott', 'castro', 'kruisfontein', 'puerto leguizamo', 'norman wells', 'los llanos de aridane', 'warqla', 'akyab', 'sidi ali', 'hambantota', 'dingle', 'pangnirtung', 'pisco', 'belushya guba', 'puerto ayora', 'sao joao da barra', 'touros', 'gizo', 'lolua', 'enid', 'zabaykalsk', 'kaitangata', 'narsaq', 'mamallapuram', 'new norfolk', 'tsihombe', 'hobart', 'airai', 'klyuchi', 'barrow', 'tuktoyaktuk', 'barra velha', 'nome', 'yar-sale', 'fortuna', 'bambanglipuro', 'qazvin', 'bardejov', 'severo-kurilsk', 'morondava', 'richards bay', 'haverfordwest', 'srednekolymsk', 'matara', 'ayabaca', 'provideniya', 'karratha', 'iskateley', 'vila', 'semiletka', 'hun', 'ambulu', 'nikolskoye', 'bud', 'san pedro', 'ponta do sol', 'yellowknife', 'lisburn', 'polunochnoye', 'benito juarez', 'rawson', 'conde', 'tabou', 'tecoanapa', 'tasiilaq', 'ugoofaaru', 'belyy yar', 'coihaique', 'lavrentiya', 'copiapo', 'juneau', 'marcona', 'codrington', 'atuona', 'altay', 'ilulissat', 'saint anthony', 'desdunes', 'laguna', 'bilibino', 'san patricio', 'klaksvik', 'griffith', 'grand gaube', 'sulangan', 'anito', 'banikoara', 'aljezur', 'solenzo', 'carballo', 'oksfjord', 'nouadhibou', 'ulladulla', 'pedernales', 'lasa', 'nanticoke', 'esqueda', 'borogontsy', 'dickinson', 'rovinj', 'east london', 'januaria', 'mansa', 'tiksi', 'anahuac', 'mount pleasant', 'quatre cocos', 'sao filipe', 'nahavand', 'georgetown', 'asau', 'hay river', 'angoche', 'port keats', 'ojinaga', 'aklavik', 'amol', 'rio grande', 'formosa', 'mar del plata', 'bara', 'kununurra', 'innellan', 'olafsvik', 'panjwin', 'kitami', 'maceio', 'vaitupu', 'henties bay', 'vardo', 'diamantino', 'la palma', 'sungairaya', 'lakes entrance', 'petropavlovsk-kamchatskiy', 'lompoc', 'jawhar', 'rungata', 'mastic beach', 'along', 'sarangani', 'tupik', 'kavaratti', 'louisbourg', 'krasnouralsk', 'petatlan', 'ilheus', 'kodiak', 'praia', 'aldan', 'ahuimanu', 'walvis bay', 'paidha', 'scarborough', 'erenhot', 'serebryansk', 'hofn', 'banepa', 'tasbuget', 'lorengau', 'palmer', 'nizwa', 'normandin', 'arroio grande', 'port-cartier', 'sentyabrskiy', 'wynyard', 'tura', 'banda aceh', 'junin', 'mogadishu', 'nambucca heads', 'awjilah', 'meulaboh', 'karanganyar', 'antalaha', 'kjollefjord', 'sergeyevka', 'kuytun', 'ma-ao', 'mattawa', 'sobolevo', 'jalu', 'barraute', 'tumannyy', 'aromashevo', 'kahului', 'hinton', 'gamba', 'sitio novo do tocantins', 'kurumkan', 'leningradskiy', 'hervey bay', 'kaduna', 'menongue', 'luba', 'purna', 'bathsheba', 'dikson', 'chinsali', 'bezhetsk', 'arlit', 'alcaniz', 'yenagoa', 'tromso', 'cabo san lucas', 'cardston', 'ixtapa', 'port hardy', 'bose', 'rancharia', 'umm lajj', 'carnarvon', 'millbrook', 'broome', 'emba', 'muisne', 'san cristobal', 'westport', 'tutoia', 'kemijarvi', 'miramar', 'umzimvubu', 'esil', 'pacific grove', 'arman', 'nizhnyaya salda', 'aranos', 'cayenne', 'saint george', 'cherskiy', 'naliya', 'broken hill', 'collie', 'kloulklubed', 'mouzouras', 'svetlogorsk', 'vilyuysk', 'tibacuy', 'valea mare', 'saint-francois', 'dryden', 'cordoba', 'batemans bay', 'solnechnyy', 'tenenkou', 'pangai', 'rio gallegos', 'brockville', 'hailey', 'coahuayana', 'mehamn', 'anadyr', 'pryshyb', 'namibe', 'komsomolskiy', 'abu samrah', 'kuppam', 'tyukhtet', 'samalaeulu', 'labuan', 'faanui', 'lagoa', 'elko', 'mendeleyevsk', 'ullapool', 'manzhouli', 'teguise', 'waingapu', 'korla', 'rolim de moura', 'sinnamary', 'antofagasta', 'sao felix do xingu', 'zeya', 'hai phong', 'maniitsoq', 'araouane', 'kiunga', 'milledgeville', 'villarrica', 'nirmal', 'naze', 'boke', 'halalo', 'colomi', 'pacifica', 'saleaula', 'takanosu', 'hami', 'mrirt', 'krasnyy chikoy', 'fairbanks', 'talcahuano', 'garm', 'seydi', 'oyama', 'plouzane', 'hihifo', 'pemangkat', 'talas', 'treinta y tres', 'port blair', 'katsuura', 'bogorodskoye', 'volkhov', 'jabiru', 'rincon de tamayo', 'tuatapere', 'iqaluit', 'sept-iles', 'ossora', 'pevek', 'pangody', 'yumen', 'andevoranto', 'nador', 'yanan', 'monte alegre', 'dunedin', 'hasaki', 'amga', 'san carlos de bariloche', 'shingu', 'prince rupert', 'shelburne', 'brownsville', 'banjar', 'ayan', 'hopkinsville', 'benguela', 'karaul', 'craig', 'sembe', 'labuhan', 'lebu', 'hirara', 'yarada', 'limbang', 'beringovskiy', 'houston', 'bandar-e lengeh', 'getulio vargas', 'faya', 'dakar', 'lishui', 'galle', 'arcachon', 'morelia', 'roebourne', 'asosa', 'darhan', 'kashary', 'sioux lookout', 'margate', 'kambove', 'groningen', 'ust-kamchatsk', 'sarakhs', 'fuling', 'sitka', 'chapais', 'enkhuizen', 'hamilton', 'ucluelet', 'bucerias', 'urengoy', 'keningau', 'panlaitan', 'port hedland', 'mabay', 'mapimi', 'dumas', 'college', 'coquimbo', 'naftah', 'kedrovka', 'pestyaki', 'alugan', 'auki', 'tandur', 'north bend', 'esmeraldas', 'kibala', 'lima', 'muzhi', 'brezova pod bradlom', 'jacareacanga', 'luderitz', 'lalmohan', 'urumqi', 'vestmanna', 'harper', 'lufilufi', 'amazar', 'tulum', 'daltenganj', 'shar', 'pitimbu', 'mabaruma', 'mgandu', 'chumikan', 'chifeng', 'dapaong', 'portland', 'yulara', 'santa catarina de tepehuanes', 'pasighat', 'makueni', 'kralendijk', 'la libertad', 'robertsport', 'tendukheda', 'karauzyak', 'muromtsevo', 'zhanjiang', 'reconquista', 'loanda', 'pemba', 'kollam', 'moranbah', 'pala', 'kazalinsk', 'north platte', 'kavieng', 'haibowan', 'pacasmayo', 'ito', 'morros', 'ellensburg', 'mosquera', 'ottumwa', 'kidal', 'smithers', 'maarianhamina', 'fez', 'sinjar', 'rincon', 'bur gabo', 'balkanabat', 'sibu', 'rundu', 'comodoro rivadavia', 'mabai', 'tuggurt', 'kasongo-lunda', 'marawi', 'novobirilyussy', 'mount isa', 'bam', 'burgersdorp', 'shache', 'saldanha', 'bilma', 'manicore', 'margherita', 'jega', 'pershotravneve', 'taltal', 'salyan', 'ismailia', 'yarmouth', 'plavsk', 'vanavara', 'pescara', 'sosnovo-ozerskoye', 'zhigansk', 'palkonda', 'tetouan', 'vyazma', 'torrington', 'kamenskoye', 'artyk', 'alice springs', 'plettenberg bay', 'cascais', 'san jose', 'khuzhir', 'guerrero negro', 'okhotsk', 'west bay', 'resistencia', 'parana', 'isahaya', 'da lat', 'tiznit', 'jiaozuo', 'gejiu', 'buchanan', 'nelson bay', 'meadow lake', 'afyonkarahisar', 'namatanai', 'valparaiso', 'arrecife', 'talnakh', 'erzin', 'sinkat', 'qinggang', 'heihe', 'gorno-chuyskiy', 'axim', 'quilmana', 'balakhta', 'solaro', 'gourcy', 'palimbang', 'tazovskiy', 'novoagansk', 'kaseda', 'ous', 'itarema', 'alofi', 'nioro', 'teya', 'suba', 'bumbuna', 'orchard homes', 'tungao', 'roanoke rapids']\n"
     ]
    }
   ],
   "source": [
    "#Just to check the cities in the list\n",
    "print(cities)"
   ]
  },
  {
   "cell_type": "markdown",
   "metadata": {},
   "source": [
    "### Perform API Calls\n",
    "* Perform a weather check on each city using a series of successive API calls.\n",
    "* Include a print log of each city as it'sbeing processed (with the city number and city name).\n",
    "\n",
    "> **HINT:** The OpenWeatherMap API only allows 60 calls per minute under their free plan. Try using `time.sleep(60)` after each set of 50 cities to avoid API errors due to large calls."
   ]
  },
  {
   "cell_type": "code",
   "execution_count": 9,
   "metadata": {
    "scrolled": true
   },
   "outputs": [
    {
     "data": {
      "text/plain": [
       "'http://api.openweathermap.org/data/2.5/weather?appid=0a709eafcf186af1422bb585c0d77225&units=metric&q=Knoxville'"
      ]
     },
     "metadata": {},
     "output_type": "display_data"
    }
   ],
   "source": [
    "#Openweather API Calls\n",
    "url = \"http://api.openweathermap.org/data/2.5/weather?\"\n",
    "#The open weather API requires units as a parameter\n",
    "unit_parameter = \"metric\"\n",
    "# Build partial query URL and use sample city to test\n",
    "query_url_test = f\"{url}appid={weather_api_key}&units={unit_parameter}&q=Knoxville\"\n",
    "display (query_url_test)"
   ]
  },
  {
   "cell_type": "code",
   "execution_count": 10,
   "metadata": {},
   "outputs": [
    {
     "data": {
      "text/plain": [
       "{'coord': {'lon': -83.9207, 'lat': 35.9606},\n",
       " 'weather': [{'id': 804,\n",
       "   'main': 'Clouds',\n",
       "   'description': 'overcast clouds',\n",
       "   'icon': '04n'}],\n",
       " 'base': 'stations',\n",
       " 'main': {'temp': -1.17,\n",
       "  'feels_like': -1.17,\n",
       "  'temp_min': -2.77,\n",
       "  'temp_max': 1.15,\n",
       "  'pressure': 1025,\n",
       "  'humidity': 74},\n",
       " 'visibility': 10000,\n",
       " 'wind': {'speed': 0, 'deg': 0},\n",
       " 'clouds': {'all': 100},\n",
       " 'dt': 1643172092,\n",
       " 'sys': {'type': 1,\n",
       "  'id': 3818,\n",
       "  'country': 'US',\n",
       "  'sunrise': 1643114460,\n",
       "  'sunset': 1643151286},\n",
       " 'timezone': -18000,\n",
       " 'id': 4634946,\n",
       " 'name': 'Knoxville',\n",
       " 'cod': 200}"
      ]
     },
     "execution_count": 10,
     "metadata": {},
     "output_type": "execute_result"
    }
   ],
   "source": [
    "#Confirmed that partial query works for sample city of knoxville\n",
    "weather_knox = requests.get(query_url_test).json()\n",
    "weather_knox"
   ]
  },
  {
   "cell_type": "code",
   "execution_count": 12,
   "metadata": {
    "scrolled": true
   },
   "outputs": [
    {
     "data": {
      "text/plain": [
       "'http://api.openweathermap.org/data/2.5/weather?appid=0a709eafcf186af1422bb585c0d77225&units=metric&q='"
      ]
     },
     "metadata": {},
     "output_type": "display_data"
    }
   ],
   "source": [
    "#Partial QUery from Test Section Above\n",
    "query_url= f\"{url}appid={weather_api_key}&units={unit_parameter}&q=\"\n",
    "display (query_url)"
   ]
  },
  {
   "cell_type": "code",
   "execution_count": 26,
   "metadata": {},
   "outputs": [
    {
     "data": {
      "text/plain": [
       "{'coord': {'lon': -80.1937, 'lat': 25.7743},\n",
       " 'weather': [{'id': 804,\n",
       "   'main': 'Clouds',\n",
       "   'description': 'overcast clouds',\n",
       "   'icon': '04n'}],\n",
       " 'base': 'stations',\n",
       " 'main': {'temp': 20.81,\n",
       "  'feels_like': 20.98,\n",
       "  'temp_min': 19.99,\n",
       "  'temp_max': 21.67,\n",
       "  'pressure': 1016,\n",
       "  'humidity': 78},\n",
       " 'visibility': 10000,\n",
       " 'wind': {'speed': 2.24, 'deg': 124, 'gust': 4.47},\n",
       " 'clouds': {'all': 100},\n",
       " 'dt': 1643174746,\n",
       " 'sys': {'type': 2,\n",
       "  'id': 2009435,\n",
       "  'country': 'US',\n",
       "  'sunrise': 1643198809,\n",
       "  'sunset': 1643237975},\n",
       " 'timezone': -18000,\n",
       " 'id': 4164138,\n",
       " 'name': 'Miami',\n",
       " 'cod': 200}"
      ]
     },
     "execution_count": 26,
     "metadata": {},
     "output_type": "execute_result"
    }
   ],
   "source": [
    "post_responses= []\n",
    "post_responses = requests.get(query_url + 'Miami').json()\n",
    "post_responses"
   ]
  },
  {
   "cell_type": "code",
   "execution_count": 25,
   "metadata": {},
   "outputs": [
    {
     "ename": "SyntaxError",
     "evalue": "invalid syntax (<ipython-input-25-5853aae3ebcb>, line 16)",
     "output_type": "error",
     "traceback": [
      "\u001b[1;36m  File \u001b[1;32m\"<ipython-input-25-5853aae3ebcb>\"\u001b[1;36m, line \u001b[1;32m16\u001b[0m\n\u001b[1;33m    for city in cities\u001b[0m\n\u001b[1;37m                      ^\u001b[0m\n\u001b[1;31mSyntaxError\u001b[0m\u001b[1;31m:\u001b[0m invalid syntax\n"
     ]
    }
   ],
   "source": [
    "#Create Lists to append with data for the cities from the random city generator\n",
    "city_list = []\n",
    "cloudiness_list = []\n",
    "country_list = []\n",
    "date_list = []\n",
    "humid_list = []\n",
    "lat_list = []\n",
    "lng_list = []\n",
    "temp_maximum_list = []\n",
    "wind_speed_list = []\n",
    "index_counter = 0\n",
    "set_counter = 1\n",
    "post_responses= []\n",
    "\n",
    "#For loop to do calls for city in cities\n",
    "for city in cities\n",
    "    #try\n",
    "    post_responses = requests.get(query_url + city).json()\n",
    "    city_list.append(post_response['name'])\n",
    "      \n",
    "  \n",
    "    \n",
    "MINUTE = 60\n",
    "   "
   ]
  },
  {
   "cell_type": "markdown",
   "metadata": {},
   "source": [
    "### Convert Raw Data to DataFrame\n",
    "* Export the city data into a .csv.\n",
    "* Display the DataFrame"
   ]
  },
  {
   "cell_type": "code",
   "execution_count": null,
   "metadata": {},
   "outputs": [],
   "source": []
  },
  {
   "cell_type": "code",
   "execution_count": null,
   "metadata": {},
   "outputs": [],
   "source": []
  },
  {
   "cell_type": "markdown",
   "metadata": {},
   "source": [
    "## Inspect the data and remove the cities where the humidity > 100%.\n",
    "----\n",
    "Skip this step if there are no cities that have humidity > 100%. "
   ]
  },
  {
   "cell_type": "code",
   "execution_count": null,
   "metadata": {},
   "outputs": [],
   "source": []
  },
  {
   "cell_type": "code",
   "execution_count": null,
   "metadata": {},
   "outputs": [],
   "source": [
    "#  Get the indices of cities that have humidity over 100%.\n"
   ]
  },
  {
   "cell_type": "code",
   "execution_count": null,
   "metadata": {},
   "outputs": [],
   "source": [
    "# Make a new DataFrame equal to the city data to drop all humidity outliers by index.\n",
    "# Passing \"inplace=False\" will make a copy of the city_data DataFrame, which we call \"clean_city_data\".\n"
   ]
  },
  {
   "cell_type": "code",
   "execution_count": null,
   "metadata": {},
   "outputs": [],
   "source": [
    "\n"
   ]
  },
  {
   "cell_type": "markdown",
   "metadata": {},
   "source": [
    "## Plotting the Data\n",
    "* Use proper labeling of the plots using plot titles (including date of analysis) and axes labels.\n",
    "* Save the plotted figures as .pngs."
   ]
  },
  {
   "cell_type": "markdown",
   "metadata": {},
   "source": [
    "## Latitude vs. Temperature Plot"
   ]
  },
  {
   "cell_type": "code",
   "execution_count": null,
   "metadata": {
    "scrolled": true
   },
   "outputs": [],
   "source": []
  },
  {
   "cell_type": "markdown",
   "metadata": {},
   "source": [
    "## Latitude vs. Humidity Plot"
   ]
  },
  {
   "cell_type": "code",
   "execution_count": null,
   "metadata": {},
   "outputs": [],
   "source": []
  },
  {
   "cell_type": "markdown",
   "metadata": {},
   "source": [
    "## Latitude vs. Cloudiness Plot"
   ]
  },
  {
   "cell_type": "code",
   "execution_count": null,
   "metadata": {},
   "outputs": [],
   "source": []
  },
  {
   "cell_type": "markdown",
   "metadata": {},
   "source": [
    "## Latitude vs. Wind Speed Plot"
   ]
  },
  {
   "cell_type": "code",
   "execution_count": null,
   "metadata": {},
   "outputs": [],
   "source": []
  },
  {
   "cell_type": "markdown",
   "metadata": {},
   "source": [
    "## Linear Regression"
   ]
  },
  {
   "cell_type": "code",
   "execution_count": null,
   "metadata": {},
   "outputs": [],
   "source": []
  },
  {
   "cell_type": "markdown",
   "metadata": {},
   "source": [
    "####  Northern Hemisphere - Max Temp vs. Latitude Linear Regression"
   ]
  },
  {
   "cell_type": "code",
   "execution_count": null,
   "metadata": {},
   "outputs": [],
   "source": []
  },
  {
   "cell_type": "markdown",
   "metadata": {},
   "source": [
    "####  Southern Hemisphere - Max Temp vs. Latitude Linear Regression"
   ]
  },
  {
   "cell_type": "code",
   "execution_count": null,
   "metadata": {},
   "outputs": [],
   "source": []
  },
  {
   "cell_type": "markdown",
   "metadata": {},
   "source": [
    "####  Northern Hemisphere - Humidity (%) vs. Latitude Linear Regression"
   ]
  },
  {
   "cell_type": "code",
   "execution_count": null,
   "metadata": {},
   "outputs": [],
   "source": []
  },
  {
   "cell_type": "markdown",
   "metadata": {},
   "source": [
    "####  Southern Hemisphere - Humidity (%) vs. Latitude Linear Regression"
   ]
  },
  {
   "cell_type": "code",
   "execution_count": null,
   "metadata": {},
   "outputs": [],
   "source": []
  },
  {
   "cell_type": "markdown",
   "metadata": {},
   "source": [
    "####  Northern Hemisphere - Cloudiness (%) vs. Latitude Linear Regression"
   ]
  },
  {
   "cell_type": "code",
   "execution_count": null,
   "metadata": {},
   "outputs": [],
   "source": []
  },
  {
   "cell_type": "markdown",
   "metadata": {},
   "source": [
    "####  Southern Hemisphere - Cloudiness (%) vs. Latitude Linear Regression"
   ]
  },
  {
   "cell_type": "code",
   "execution_count": null,
   "metadata": {},
   "outputs": [],
   "source": []
  },
  {
   "cell_type": "markdown",
   "metadata": {},
   "source": [
    "####  Northern Hemisphere - Wind Speed (mph) vs. Latitude Linear Regression"
   ]
  },
  {
   "cell_type": "code",
   "execution_count": null,
   "metadata": {},
   "outputs": [],
   "source": []
  },
  {
   "cell_type": "markdown",
   "metadata": {},
   "source": [
    "####  Southern Hemisphere - Wind Speed (mph) vs. Latitude Linear Regression"
   ]
  },
  {
   "cell_type": "code",
   "execution_count": null,
   "metadata": {},
   "outputs": [],
   "source": []
  },
  {
   "cell_type": "code",
   "execution_count": null,
   "metadata": {},
   "outputs": [],
   "source": []
  }
 ],
 "metadata": {
  "anaconda-cloud": {},
  "kernel_info": {
   "name": "python3"
  },
  "kernelspec": {
   "display_name": "Python [conda env:.conda-PythonData] *",
   "language": "python",
   "name": "conda-env-.conda-PythonData-py"
  },
  "language_info": {
   "codemirror_mode": {
    "name": "ipython",
    "version": 3
   },
   "file_extension": ".py",
   "mimetype": "text/x-python",
   "name": "python",
   "nbconvert_exporter": "python",
   "pygments_lexer": "ipython3",
   "version": "3.6.10"
  },
  "latex_envs": {
   "LaTeX_envs_menu_present": true,
   "autoclose": false,
   "autocomplete": true,
   "bibliofile": "biblio.bib",
   "cite_by": "apalike",
   "current_citInitial": 1,
   "eqLabelWithNumbers": true,
   "eqNumInitial": 1,
   "hotkeys": {
    "equation": "Ctrl-E",
    "itemize": "Ctrl-I"
   },
   "labels_anchors": false,
   "latex_user_defs": false,
   "report_style_numbering": false,
   "user_envs_cfg": false
  },
  "nteract": {
   "version": "0.12.3"
  }
 },
 "nbformat": 4,
 "nbformat_minor": 2
}
